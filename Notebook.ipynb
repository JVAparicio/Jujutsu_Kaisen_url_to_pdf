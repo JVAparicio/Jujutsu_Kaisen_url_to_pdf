{
 "cells": [
  {
   "cell_type": "code",
   "execution_count": 6,
   "metadata": {},
   "outputs": [],
   "source": [
    "import os\n",
    "import requests\n",
    "from bs4 import BeautifulSoup\n",
    "from urllib.parse import urljoin\n",
    "\n",
    "from reportlab.lib.pagesizes import letter\n",
    "from reportlab.pdfgen import canvas\n",
    "from PIL import Image"
   ]
  },
  {
   "cell_type": "code",
   "execution_count": null,
   "metadata": {},
   "outputs": [],
   "source": [
    "chapter = 182\n",
    "current_directory = os.getcwd()\n",
    "download_directory = f\"{current_directory}/chapter_{chapter}\""
   ]
  },
  {
   "cell_type": "code",
   "execution_count": 3,
   "metadata": {},
   "outputs": [],
   "source": [
    "#url = 'https://w2.jujmanga.com/'\n",
    "url = f\"https://w2.jujmanga.com/manga/jujutsu-kaisen-chapter-{chapter}/\"\n",
    "response = requests.get(url)\n",
    "soup = BeautifulSoup(response.text, 'html.parser')\n",
    "\n",
    "img_tags = soup.find_all('img')\n",
    "img_urls = [urljoin(url, img['src']) for img in img_tags]\n",
    "\n",
    "\n",
    "if not os.path.exists(download_directory):\n",
    "    os.makedirs(download_directory)\n",
    "\n",
    "# Initialize a counter for renaming images\n",
    "counter = 1\n",
    "\n",
    "for img_url in img_urls:\n",
    "    img_data = requests.get(img_url).content\n",
    "    img_filename = f\"{counter}.jpg\"  # You can change the file extension if needed\n",
    "    with open(os.path.join(download_directory, img_filename), 'wb') as f:\n",
    "        f.write(img_data)\n",
    "    counter += 1\n"
   ]
  },
  {
   "cell_type": "code",
   "execution_count": 7,
   "metadata": {},
   "outputs": [
    {
     "name": "stdout",
     "output_type": "stream",
     "text": [
      "PDF created: /mnt/e/Projects/Jujutsu_Kaisen/chapter_182/chapter_182.pdf\n"
     ]
    }
   ],
   "source": [
    "# Create a PDF with all images\n",
    "pdf_filename = f\"{os.path.basename(download_directory)}.pdf\"\n",
    "pdf_path = os.path.join(download_directory, pdf_filename)\n",
    "\n",
    "# Open a PDF file\n",
    "with open(pdf_path, 'wb') as pdf_file:\n",
    "    # Create a PDF canvas\n",
    "    pdf_canvas = canvas.Canvas(pdf_file, pagesize=letter)\n",
    "\n",
    "    # Iterate over images and add them to the PDF\n",
    "    for img_num in range(1, counter):\n",
    "        img_path = os.path.join(download_directory, f\"{img_num}.jpg\")\n",
    "        img = Image.open(img_path)\n",
    "        pdf_canvas.drawInlineImage(img, 0, 0, width=letter[0], height=letter[1])\n",
    "\n",
    "        # Add a new page for each image (optional)\n",
    "        pdf_canvas.showPage()\n",
    "\n",
    "    # Save the PDF\n",
    "    pdf_canvas.save()\n",
    "\n",
    "print(f\"PDF created: {pdf_path}\")"
   ]
  },
  {
   "cell_type": "code",
   "execution_count": 8,
   "metadata": {},
   "outputs": [
    {
     "name": "stdout",
     "output_type": "stream",
     "text": [
      "[NbConvertApp] Converting notebook Notebook.ipynb to script\n",
      "[NbConvertApp] Writing 1823 bytes to Notebook.py\n"
     ]
    }
   ],
   "source": [
    "!jupyter nbconvert --to script Notebook.ipynb\n"
   ]
  },
  {
   "cell_type": "code",
   "execution_count": null,
   "metadata": {},
   "outputs": [],
   "source": []
  }
 ],
 "metadata": {
  "kernelspec": {
   "display_name": "Jujutsu_Kaisen-WbjL12a_",
   "language": "python",
   "name": "python3"
  },
  "language_info": {
   "codemirror_mode": {
    "name": "ipython",
    "version": 3
   },
   "file_extension": ".py",
   "mimetype": "text/x-python",
   "name": "python",
   "nbconvert_exporter": "python",
   "pygments_lexer": "ipython3",
   "version": "3.10.6"
  }
 },
 "nbformat": 4,
 "nbformat_minor": 2
}
